{
 "cells": [
  {
   "cell_type": "code",
   "execution_count": 17,
   "id": "219595d1-9e71-4fa0-b283-8244826b680a",
   "metadata": {},
   "outputs": [],
   "source": [
    "import pandas as pd\n",
    "import numpy as np  #to perform mathematical calculation\n",
    "import seaborn as sns  #for data visualization\n",
    "import matplotlib.pyplot as plt  #for plotting graphs\n",
    "import warnings\n",
    "warnings.filterwarnings(\"ignore\")"
   ]
  },
  {
   "cell_type": "code",
   "execution_count": 89,
   "id": "93419cf0-c6b0-46d8-9886-d814f08c36d7",
   "metadata": {},
   "outputs": [],
   "source": [
    "#reading the data file into the python environment \n",
    "train = pd.read_csv(\"train.csv\")\n",
    "test = pd.read_csv(\"test.csv\")"
   ]
  },
  {
   "cell_type": "code",
   "execution_count": 91,
   "id": "87475a60-cba3-41e3-9b05-f898f86fc852",
   "metadata": {},
   "outputs": [
    {
     "data": {
      "text/html": [
       "<div>\n",
       "<style scoped>\n",
       "    .dataframe tbody tr th:only-of-type {\n",
       "        vertical-align: middle;\n",
       "    }\n",
       "\n",
       "    .dataframe tbody tr th {\n",
       "        vertical-align: top;\n",
       "    }\n",
       "\n",
       "    .dataframe thead th {\n",
       "        text-align: right;\n",
       "    }\n",
       "</style>\n",
       "<table border=\"1\" class=\"dataframe\">\n",
       "  <thead>\n",
       "    <tr style=\"text-align: right;\">\n",
       "      <th></th>\n",
       "      <th>Loan_ID</th>\n",
       "      <th>Gender</th>\n",
       "      <th>Married</th>\n",
       "      <th>Dependents</th>\n",
       "      <th>Education</th>\n",
       "      <th>Self_Employed</th>\n",
       "      <th>ApplicantIncome</th>\n",
       "      <th>CoapplicantIncome</th>\n",
       "      <th>LoanAmount</th>\n",
       "      <th>Loan_Amount_Term</th>\n",
       "      <th>Credit_History</th>\n",
       "      <th>Property_Area</th>\n",
       "    </tr>\n",
       "  </thead>\n",
       "  <tbody>\n",
       "    <tr>\n",
       "      <th>0</th>\n",
       "      <td>LP001015</td>\n",
       "      <td>Male</td>\n",
       "      <td>Yes</td>\n",
       "      <td>0</td>\n",
       "      <td>Graduate</td>\n",
       "      <td>No</td>\n",
       "      <td>5720</td>\n",
       "      <td>0</td>\n",
       "      <td>110.0</td>\n",
       "      <td>360.0</td>\n",
       "      <td>1.0</td>\n",
       "      <td>Urban</td>\n",
       "    </tr>\n",
       "    <tr>\n",
       "      <th>1</th>\n",
       "      <td>LP001022</td>\n",
       "      <td>Male</td>\n",
       "      <td>Yes</td>\n",
       "      <td>1</td>\n",
       "      <td>Graduate</td>\n",
       "      <td>No</td>\n",
       "      <td>3076</td>\n",
       "      <td>1500</td>\n",
       "      <td>126.0</td>\n",
       "      <td>360.0</td>\n",
       "      <td>1.0</td>\n",
       "      <td>Urban</td>\n",
       "    </tr>\n",
       "    <tr>\n",
       "      <th>2</th>\n",
       "      <td>LP001031</td>\n",
       "      <td>Male</td>\n",
       "      <td>Yes</td>\n",
       "      <td>2</td>\n",
       "      <td>Graduate</td>\n",
       "      <td>No</td>\n",
       "      <td>5000</td>\n",
       "      <td>1800</td>\n",
       "      <td>208.0</td>\n",
       "      <td>360.0</td>\n",
       "      <td>1.0</td>\n",
       "      <td>Urban</td>\n",
       "    </tr>\n",
       "    <tr>\n",
       "      <th>3</th>\n",
       "      <td>LP001035</td>\n",
       "      <td>Male</td>\n",
       "      <td>Yes</td>\n",
       "      <td>2</td>\n",
       "      <td>Graduate</td>\n",
       "      <td>No</td>\n",
       "      <td>2340</td>\n",
       "      <td>2546</td>\n",
       "      <td>100.0</td>\n",
       "      <td>360.0</td>\n",
       "      <td>NaN</td>\n",
       "      <td>Urban</td>\n",
       "    </tr>\n",
       "    <tr>\n",
       "      <th>4</th>\n",
       "      <td>LP001051</td>\n",
       "      <td>Male</td>\n",
       "      <td>No</td>\n",
       "      <td>0</td>\n",
       "      <td>Not Graduate</td>\n",
       "      <td>No</td>\n",
       "      <td>3276</td>\n",
       "      <td>0</td>\n",
       "      <td>78.0</td>\n",
       "      <td>360.0</td>\n",
       "      <td>1.0</td>\n",
       "      <td>Urban</td>\n",
       "    </tr>\n",
       "  </tbody>\n",
       "</table>\n",
       "</div>"
      ],
      "text/plain": [
       "    Loan_ID Gender Married Dependents     Education Self_Employed  \\\n",
       "0  LP001015   Male     Yes          0      Graduate            No   \n",
       "1  LP001022   Male     Yes          1      Graduate            No   \n",
       "2  LP001031   Male     Yes          2      Graduate            No   \n",
       "3  LP001035   Male     Yes          2      Graduate            No   \n",
       "4  LP001051   Male      No          0  Not Graduate            No   \n",
       "\n",
       "   ApplicantIncome  CoapplicantIncome  LoanAmount  Loan_Amount_Term  \\\n",
       "0             5720                  0       110.0             360.0   \n",
       "1             3076               1500       126.0             360.0   \n",
       "2             5000               1800       208.0             360.0   \n",
       "3             2340               2546       100.0             360.0   \n",
       "4             3276                  0        78.0             360.0   \n",
       "\n",
       "   Credit_History Property_Area  \n",
       "0             1.0         Urban  \n",
       "1             1.0         Urban  \n",
       "2             1.0         Urban  \n",
       "3             NaN         Urban  \n",
       "4             1.0         Urban  "
      ]
     },
     "execution_count": 91,
     "metadata": {},
     "output_type": "execute_result"
    }
   ],
   "source": [
    "#creating the copy\n",
    "\n",
    "train_original = train.copy()\n",
    "test_original = test.copy()\n",
    "\n"
   ]
  },
  {
   "cell_type": "code",
   "execution_count": 8,
   "id": "ba90a55d-8fbf-4ab0-be2e-129ee3351b70",
   "metadata": {},
   "outputs": [
    {
     "data": {
      "text/plain": [
       "Index(['Loan_ID', 'Gender', 'Married', 'Dependents', 'Education',\n",
       "       'Self_Employed', 'ApplicantIncome', 'CoapplicantIncome', 'LoanAmount',\n",
       "       'Loan_Amount_Term', 'Credit_History', 'Property_Area', 'Loan_Status'],\n",
       "      dtype='object')"
      ]
     },
     "execution_count": 8,
     "metadata": {},
     "output_type": "execute_result"
    }
   ],
   "source": [
    "#Looking for the columns of each of the dataset\n",
    "train.columns"
   ]
  },
  {
   "cell_type": "code",
   "execution_count": 7,
   "id": "a0b7c54d-ae79-4d83-b9d1-4a08bbdfe485",
   "metadata": {},
   "outputs": [
    {
     "data": {
      "text/plain": [
       "Index(['Loan_ID', 'Gender', 'Married', 'Dependents', 'Education',\n",
       "       'Self_Employed', 'ApplicantIncome', 'CoapplicantIncome', 'LoanAmount',\n",
       "       'Loan_Amount_Term', 'Credit_History', 'Property_Area'],\n",
       "      dtype='object')"
      ]
     },
     "execution_count": 7,
     "metadata": {},
     "output_type": "execute_result"
    }
   ],
   "source": [
    "test.columns"
   ]
  },
  {
   "cell_type": "code",
   "execution_count": 9,
   "id": "5a07a4bb-d625-4b8b-83fa-0c97a2f69fe1",
   "metadata": {},
   "outputs": [
    {
     "data": {
      "text/plain": [
       "Loan_ID               object\n",
       "Gender                object\n",
       "Married               object\n",
       "Dependents            object\n",
       "Education             object\n",
       "Self_Employed         object\n",
       "ApplicantIncome        int64\n",
       "CoapplicantIncome    float64\n",
       "LoanAmount           float64\n",
       "Loan_Amount_Term     float64\n",
       "Credit_History       float64\n",
       "Property_Area         object\n",
       "Loan_Status           object\n",
       "dtype: object"
      ]
     },
     "execution_count": 9,
     "metadata": {},
     "output_type": "execute_result"
    }
   ],
   "source": [
    "#to print the datatype of each of the attributes\n",
    "train.dtypes"
   ]
  },
  {
   "cell_type": "code",
   "execution_count": 13,
   "id": "25a5a57b-5616-45b3-8b08-c280d9c391df",
   "metadata": {},
   "outputs": [
    {
     "data": {
      "text/plain": [
       "(614, 13)"
      ]
     },
     "execution_count": 13,
     "metadata": {},
     "output_type": "execute_result"
    }
   ],
   "source": [
    "#To know the size of the dataset\n",
    "train.shape"
   ]
  },
  {
   "cell_type": "code",
   "execution_count": 16,
   "id": "bfa2c702-0282-49ae-98e3-ac040cbb2e9d",
   "metadata": {},
   "outputs": [
    {
     "data": {
      "text/plain": [
       "(367, 12)"
      ]
     },
     "execution_count": 16,
     "metadata": {},
     "output_type": "execute_result"
    }
   ],
   "source": [
    "test.shape"
   ]
  },
  {
   "cell_type": "code",
   "execution_count": 17,
   "id": "f98a7cea-b751-4594-ae7a-b3efba161aed",
   "metadata": {},
   "outputs": [
    {
     "data": {
      "text/plain": [
       "Y    422\n",
       "N    192\n",
       "Name: Loan_Status, dtype: int64"
      ]
     },
     "execution_count": 17,
     "metadata": {},
     "output_type": "execute_result"
    }
   ],
   "source": [
    "#Uni-variate analysis on target variable\n",
    "#Frequency table \n",
    "train['Loan_Status'].value_counts()\n"
   ]
  },
  {
   "cell_type": "code",
   "execution_count": 18,
   "id": "82df6e9b-7167-4eb4-a208-535c687166b9",
   "metadata": {},
   "outputs": [
    {
     "data": {
      "text/plain": [
       "Y    0.687296\n",
       "N    0.312704\n",
       "Name: Loan_Status, dtype: float64"
      ]
     },
     "execution_count": 18,
     "metadata": {},
     "output_type": "execute_result"
    }
   ],
   "source": [
    "#normalize can be set true to print the proportation instead of the numbers\n",
    "train['Loan_Status'].value_counts(normalize = True)"
   ]
  },
  {
   "cell_type": "code",
   "execution_count": 19,
   "id": "be62b896-b631-4041-b244-c0deeb2184c2",
   "metadata": {},
   "outputs": [
    {
     "data": {
      "text/plain": [
       "<AxesSubplot:>"
      ]
     },
     "execution_count": 19,
     "metadata": {},
     "output_type": "execute_result"
    },
    {
     "data": {
      "image/png": "[encoded data removed]",
      "text/plain": [
       "<Figure size 432x288 with 1 Axes>"
      ]
     },
     "metadata": {
      "needs_background": "light"
     },
     "output_type": "display_data"
    }
   ],
   "source": [
    "#To plot the bar \n",
    "train['Loan_Status'].value_counts().plot.bar()"
   ]
  },
  {
   "cell_type": "code",
   "execution_count": 24,
   "id": "2b5fb5a3-e8ea-4e63-b041-67b6d46df4e3",
   "metadata": {},
   "outputs": [
    {
     "data": {
      "image/png": "[encoded data removed]",
      "text/plain": [
       "<Figure size 1440x720 with 4 Axes>"
      ]
     },
     "metadata": {
      "needs_background": "light"
     },
     "output_type": "display_data"
    }
   ],
   "source": [
    "#Visulaize each variable separately.There are different type of variables categorical , ordinal and numerical\n",
    "#Independent Variables we are using sub plot concept \n",
    "plt.figure(1) \n",
    "plt.subplot(221)\n",
    "train['Gender'].value_counts(normalize =True).plot.bar(figsize = (20,10),title= \"Gender\")\n",
    "plt.subplot(222)\n",
    "train['Married'].value_counts(normalize = True).plot.bar(title = \"Married\")\n",
    "plt.subplot(223)\n",
    "train['Self_Employed'].value_counts(normalize = True).plot.bar(title = \"Self_Employment\")\n",
    "plt.subplot(224)\n",
    "train['Credit_History'].value_counts(normalize = True).plot.bar(title = \"Credit History\")\n",
    "plt.show()\n"
   ]
  },
  {
   "cell_type": "code",
   "execution_count": 25,
   "id": "2a257c6d-ff54-4273-b744-3705e7301d6c",
   "metadata": {},
   "outputs": [],
   "source": [
    "#The following are the observation of the categorical data\n",
    "#80% of the applicants are male\n",
    "#Around 65% of the applicants in the dataset are married\n",
    "#Around 15% applicants are self employed \n",
    "#Around 855 applicants have repaid their debts."
   ]
  },
  {
   "cell_type": "code",
   "execution_count": 32,
   "id": "427382ec-3c00-4fcb-bdc9-27bdfa9e1c17",
   "metadata": {},
   "outputs": [
    {
     "data": {
      "text/plain": [
       "<AxesSubplot:title={'center':'Property_Area'}>"
      ]
     },
     "execution_count": 32,
     "metadata": {},
     "output_type": "execute_result"
    },
    {
     "data": {
      "image/png": "[encoded data removed]",
      "text/plain": [
       "<Figure size 1440x288 with 3 Axes>"
      ]
     },
     "metadata": {
      "needs_background": "light"
     },
     "output_type": "display_data"
    }
   ],
   "source": [
    "#Independent Variables(Ordinal)\n",
    "plt.figure(1)\n",
    "plt.subplot(131)\n",
    "train['Dependents'].value_counts(normalize= True).plot.bar(figsize=(20,4),title = \"Dependents\")\n",
    "plt.subplot(132)\n",
    "train['Education'].value_counts(normalize= True).plot.bar(title = \"Education\")\n",
    "plt.subplot(133)\n",
    "train['Property_Area'].value_counts(normalize= True).plot.bar(title = \"Property_Area\")"
   ]
  },
  {
   "cell_type": "code",
   "execution_count": 33,
   "id": "dc64ed20-5de2-4d50-9df6-7cf0ae3bbe0b",
   "metadata": {},
   "outputs": [],
   "source": [
    "#Observation \n",
    "#Most of the appliatns don't have any dependents\n",
    "#Around 80% of the applicants are Graduate\n",
    "#Most of teh applicants are From Semiurban Areas"
   ]
  },
  {
   "cell_type": "code",
   "execution_count": 34,
   "id": "f529d3fb-8bc5-4120-bf77-6d946ece7edf",
   "metadata": {},
   "outputs": [
    {
     "data": {
      "image/png": "[encoded data removed]",
      "text/plain": [
       "<Figure size 1152x360 with 2 Axes>"
      ]
     },
     "metadata": {
      "needs_background": "light"
     },
     "output_type": "display_data"
    }
   ],
   "source": [
    "#Independent Variable\n",
    "plt.figure(1)\n",
    "plt.subplot(121)\n",
    "sns.distplot(train['ApplicantIncome'])\n",
    "plt.subplot(122)\n",
    "train['ApplicantIncome'].plot.box(figsize=(16,5))\n",
    "plt.show()"
   ]
  },
  {
   "cell_type": "code",
   "execution_count": 35,
   "id": "2f59c91b-37a6-470c-bffb-3d4d681af99e",
   "metadata": {},
   "outputs": [],
   "source": [
    "#The box plot confirms the presence of a lot of outlier.This can be attributed to the income disparity in the society."
   ]
  },
  {
   "cell_type": "code",
   "execution_count": 37,
   "id": "c9823be2-3b01-436f-9a21-f603ff3265fd",
   "metadata": {},
   "outputs": [
    {
     "data": {
      "text/plain": [
       "Text(0.5, 0.98, '')"
      ]
     },
     "execution_count": 37,
     "metadata": {},
     "output_type": "execute_result"
    },
    {
     "data": {
      "image/png": "[encoded data removed]",
      "text/plain": [
       "<Figure size 432x288 with 1 Axes>"
      ]
     },
     "metadata": {
      "needs_background": "light"
     },
     "output_type": "display_data"
    }
   ],
   "source": [
    "train.boxplot(column=\"ApplicantIncome\",by = \"Education\")\n",
    "plt.suptitle(\"\")"
   ]
  },
  {
   "cell_type": "code",
   "execution_count": 38,
   "id": "fc80c004-9e17-4c30-9441-7e243f5bbf89",
   "metadata": {},
   "outputs": [],
   "source": [
    "#Let's look the coapplicant income distribution "
   ]
  },
  {
   "cell_type": "code",
   "execution_count": 39,
   "id": "0f8e0055-5db2-4536-8643-5f41f3f2355e",
   "metadata": {},
   "outputs": [
    {
     "data": {
      "image/png": "[encoded data removed]",
      "text/plain": [
       "<Figure size 1152x360 with 2 Axes>"
      ]
     },
     "metadata": {
      "needs_background": "light"
     },
     "output_type": "display_data"
    }
   ],
   "source": [
    "plt.figure(1)\n",
    "plt.subplot(121)\n",
    "sns.distplot(train['CoapplicantIncome'])\n",
    "plt.subplot(122)\n",
    "train['CoapplicantIncome'].plot.box(figsize=(16,5))\n",
    "plt.show()"
   ]
  },
  {
   "cell_type": "code",
   "execution_count": 40,
   "id": "79837d32-8d0d-408a-9d5c-3950336b978e",
   "metadata": {},
   "outputs": [],
   "source": [
    "#We can see the similar distribution as that of the applicant income.Majority of the coapplicants's income ranges from 0 to 5000.we can also see the outliers in the coapplicant income and it is not normally distributes."
   ]
  },
  {
   "cell_type": "code",
   "execution_count": 41,
   "id": "8495d0a1-5674-4b64-bec5-c9183ad4ac59",
   "metadata": {},
   "outputs": [],
   "source": [
    "#Lets look at the distribution of LoanAmount variable "
   ]
  },
  {
   "cell_type": "code",
   "execution_count": 43,
   "id": "2b722a5e-157a-4b04-b1f4-2475cf0ea617",
   "metadata": {},
   "outputs": [
    {
     "data": {
      "image/png": "[encoded data removed]",
      "text/plain": [
       "<Figure size 1152x360 with 2 Axes>"
      ]
     },
     "metadata": {
      "needs_background": "light"
     },
     "output_type": "display_data"
    }
   ],
   "source": [
    "plt.figure(1)\n",
    "plt.subplot(121)\n",
    "df = train.dropna() #Dropping the null values\n",
    "sns.distplot(train['LoanAmount'])\n",
    "plt.subplot(122)\n",
    "train['LoanAmount'].plot.box(figsize=(16,5))\n",
    "plt.show()"
   ]
  },
  {
   "cell_type": "code",
   "execution_count": 44,
   "id": "a14df714-959c-4478-8948-aad467e837da",
   "metadata": {},
   "outputs": [
    {
     "data": {
      "text/plain": [
       "<AxesSubplot:xlabel='Gender'>"
      ]
     },
     "execution_count": 44,
     "metadata": {},
     "output_type": "execute_result"
    },
    {
     "data": {
      "image/png": "[encoded data removed]",
      "text/plain": [
       "<Figure size 288x288 with 1 Axes>"
      ]
     },
     "metadata": {
      "needs_background": "light"
     },
     "output_type": "display_data"
    }
   ],
   "source": [
    "#BIVARIATE ANALYSIS\n",
    "#After Looking all the variables individually in univariate analysis, we will now explore them again in with respect to the target variable.\n",
    "#CATEGORICAL VAR VS TARGET VARIABLE\n",
    "\n",
    "Gender = pd.crosstab(train['Gender'],train['Loan_Status'])\n",
    "Gender.div(Gender.sum(1).astype(float),axis=0).plot(kind = \"bar\",stacked=True,figsize=(4,4))"
   ]
  },
  {
   "cell_type": "code",
   "execution_count": 45,
   "id": "1b5a7b71-1d35-47d8-b6cb-0c064909982f",
   "metadata": {},
   "outputs": [],
   "source": [
    "#It can be inferred that the proportion of males and females applicants is more or less same for both approved and unapproved loans"
   ]
  },
  {
   "cell_type": "code",
   "execution_count": 47,
   "id": "e5881873-1b84-4f07-8cf8-030a1dc1446b",
   "metadata": {},
   "outputs": [
    {
     "data": {
      "image/png": "[encoded data removed]",
      "text/plain": [
       "<Figure size 288x288 with 1 Axes>"
      ]
     },
     "metadata": {
      "needs_background": "light"
     },
     "output_type": "display_data"
    },
    {
     "data": {
      "image/png": "[encoded data removed]",
      "text/plain": [
       "<Figure size 288x288 with 1 Axes>"
      ]
     },
     "metadata": {
      "needs_background": "light"
     },
     "output_type": "display_data"
    },
    {
     "data": {
      "image/png": "[encoded data removed]",
      "text/plain": [
       "<Figure size 288x288 with 1 Axes>"
      ]
     },
     "metadata": {
      "needs_background": "light"
     },
     "output_type": "display_data"
    },
    {
     "data": {
      "image/png": "[encoded data removed]",
      "text/plain": [
       "<Figure size 288x288 with 1 Axes>"
      ]
     },
     "metadata": {
      "needs_background": "light"
     },
     "output_type": "display_data"
    }
   ],
   "source": [
    "Married = pd.crosstab(train['Married'],train['Loan_Status'])\n",
    "Dependents = pd.crosstab(train['Dependents'],train['Loan_Status'])\n",
    "Education = pd.crosstab(train[\"Education\"],train['Loan_Status'])\n",
    "Self_Employed = pd.crosstab(train['Self_Employed'],train['Loan_Status'])\n",
    "\n",
    "Married.div(Married.sum(1).astype(float),axis = 0).plot(kind = \"bar\",stacked=True,figsize=(4,4)) \n",
    "plt.show()\n",
    "\n",
    "Dependents.div(Dependents.sum(1).astype(float),axis = 0).plot(kind = \"bar\",stacked=True,figsize=(4,4)) \n",
    "plt.show()\n",
    "\n",
    "Education.div(Education.sum(1).astype(float),axis = 0).plot(kind = \"bar\",stacked=True,figsize=(4,4)) \n",
    "plt.show()\n",
    "\n",
    "Self_Employed.div(Self_Employed.sum(1).astype(float),axis = 0).plot(kind = \"bar\",stacked=True,figsize=(4,4)) \n",
    "plt.show()\n"
   ]
  },
  {
   "cell_type": "code",
   "execution_count": 48,
   "id": "d536f9d6-8e16-407c-9e28-58569ae5f741",
   "metadata": {},
   "outputs": [],
   "source": [
    "# Proportion of married applicants is higher for the approved loan\n",
    "#Distribution of applicants with 1 or 3 dependensts is similar across both the categories of loan_Status \n",
    "#there is no siignificant we can infere from Self Employmment "
   ]
  },
  {
   "cell_type": "code",
   "execution_count": 50,
   "id": "aee84d8e-473d-4fd8-96d7-6aa8f203fbc1",
   "metadata": {},
   "outputs": [
    {
     "data": {
      "image/png": "[encoded data removed]",
      "text/plain": [
       "<Figure size 288x288 with 1 Axes>"
      ]
     },
     "metadata": {
      "needs_background": "light"
     },
     "output_type": "display_data"
    },
    {
     "data": {
      "image/png": "[encoded data removed]",
      "text/plain": [
       "<Figure size 432x288 with 1 Axes>"
      ]
     },
     "metadata": {
      "needs_background": "light"
     },
     "output_type": "display_data"
    }
   ],
   "source": [
    "#Now we will look at the relationship between remaining categorical independent variables and Loan_Status \n",
    "\n",
    "Credit_History = pd.crosstab(train['Credit_History'],train['Loan_Status'])\n",
    "Credit_History.div(Credit_History.sum(1).astype(float),axis = 0).plot(kind= \"bar\",stacked = True , figsize= (4,4))\n",
    "plt.show()\n",
    "\n",
    "Property_Area = pd.crosstab(train['Property_Area'],train['Loan_Status'])\n",
    "Property_Area.div(Property_Area.sum(1).astype(float),axis=0).plot(kind=\"bar\",stacked=True)\n",
    "plt.show()"
   ]
  },
  {
   "cell_type": "code",
   "execution_count": 51,
   "id": "c4469c2d-cb2f-48b1-a57f-d66990d9b590",
   "metadata": {},
   "outputs": [],
   "source": [
    "#The applicants with the credit history 1 are more likely to get the approval \n",
    "#Proportion of loans getting approved in semi urban area is higher as compared to that in rural or urban area\n"
   ]
  },
  {
   "cell_type": "code",
   "execution_count": 52,
   "id": "dca7d768-4ae1-4803-9e01-b8f3e0fce4cf",
   "metadata": {},
   "outputs": [],
   "source": [
    "#NUMERICAL INDEPENDENT Vs TARGET VARAIBLE"
   ]
  },
  {
   "cell_type": "code",
   "execution_count": 53,
   "id": "c142f4c1-195a-47f1-892a-3920017a6383",
   "metadata": {},
   "outputs": [],
   "source": [
    "#We will try to find the mean income of people for ehich the loan has been approved vs the mean income of people for ehich the loan has not been approved "
   ]
  },
  {
   "cell_type": "code",
   "execution_count": 54,
   "id": "af992d53-5a93-4b85-a7b8-a65244e3cc4f",
   "metadata": {},
   "outputs": [
    {
     "data": {
      "text/plain": [
       "<AxesSubplot:xlabel='Loan_Status'>"
      ]
     },
     "execution_count": 54,
     "metadata": {},
     "output_type": "execute_result"
    },
    {
     "data": {
      "image/png": "[encoded data removed]",
      "text/plain": [
       "<Figure size 432x288 with 1 Axes>"
      ]
     },
     "metadata": {
      "needs_background": "light"
     },
     "output_type": "display_data"
    }
   ],
   "source": [
    "train.groupby('Loan_Status')['ApplicantIncome'].mean().plot.bar()"
   ]
  },
  {
   "cell_type": "code",
   "execution_count": 55,
   "id": "991001e8-bb08-46f7-b368-fb4f0691bacd",
   "metadata": {},
   "outputs": [],
   "source": [
    "#Lets make the bins for the applicant income variable based on the values in it and analyze the corresponding loan status "
   ]
  },
  {
   "cell_type": "code",
   "execution_count": 58,
   "id": "f2ef5de0-de8b-4dbe-914d-0d73c0ebe18b",
   "metadata": {},
   "outputs": [
    {
     "data": {
      "text/plain": [
       "Text(0, 0.5, 'Percentage')"
      ]
     },
     "execution_count": 58,
     "metadata": {},
     "output_type": "execute_result"
    },
    {
     "data": {
      "image/png": "[encoded data removed]",
      "text/plain": [
       "<Figure size 432x288 with 1 Axes>"
      ]
     },
     "metadata": {
      "needs_background": "light"
     },
     "output_type": "display_data"
    }
   ],
   "source": [
    "bins = [0,2500,4000,6000,81000]\n",
    "groups=['low','Average','High','Very High']\n",
    "train['Income_bin'] = pd.cut(train['ApplicantIncome'],bins,labels=groups)\n",
    "\n",
    "Income_bin = pd.crosstab(train['Income_bin'],train['Loan_Status'])\n",
    "\n",
    "Income_bin.div(Income_bin.sum(1).astype(float),axis = 0).plot(kind=\"bar\",stacked = True)\n",
    "plt.xlabel(\"ApplicantIncome\")\n",
    "plt.ylabel(\"Percentage\")"
   ]
  },
  {
   "cell_type": "code",
   "execution_count": 59,
   "id": "f17b2d46-9bb2-4fc1-ae4c-85fcfc1c2458",
   "metadata": {},
   "outputs": [],
   "source": [
    "#It can be inferred that Applicant income does not affect the chances of loan approval which contradicts our hypothesis in which we assumed that if applicant income is high the chances of loan approval will also be high "
   ]
  },
  {
   "cell_type": "code",
   "execution_count": 62,
   "id": "9f574d25-4b6c-450c-b115-534299300870",
   "metadata": {},
   "outputs": [
    {
     "data": {
      "text/plain": [
       "Text(0.5, 1.0, 'Coapplicants income approval of loan')"
      ]
     },
     "execution_count": 62,
     "metadata": {},
     "output_type": "execute_result"
    },
    {
     "data": {
      "image/png": "[encoded data removed]",
      "text/plain": [
       "<Figure size 432x288 with 1 Axes>"
      ]
     },
     "metadata": {
      "needs_background": "light"
     },
     "output_type": "display_data"
    }
   ],
   "source": [
    "#Now we will analyze theh coapplicant inncome and loan amount variable in similar manner \n",
    "\n",
    "bins= [0,1000,3000,42000]\n",
    "groups = ['low', 'Average','High']\n",
    "\n",
    "train['Coapplicant_Income_bin'] = pd.cut(train['CoapplicantIncome'],bins,labels=groups)\n",
    "\n",
    "Coapplicant_Income_bin = pd.crosstab(train['Coapplicant_Income_bin'],train['Loan_Status'])\n",
    "\n",
    "Coapplicant_Income_bin.div(Coapplicant_Income_bin.sum(1).astype(float),axis = 0).plot(kind=\"bar\",stacked=True)\n",
    "plt.xlabel(\"CoapplicantIncome\")\n",
    "plt.ylabel(\"Percentage\")\n",
    "plt.title(\"Coapplicants income approval of loan\")"
   ]
  },
  {
   "cell_type": "code",
   "execution_count": 63,
   "id": "79c19e65-a702-47ff-ae9e-3f216e1874d6",
   "metadata": {},
   "outputs": [],
   "source": [
    "#As we can see that there is not a lot of information grasped from the above graph  we are going to combine the Applicant income and co applicant income as Total income to generate the better understanding of the dataset"
   ]
  },
  {
   "cell_type": "code",
   "execution_count": 64,
   "id": "b7322b42-f561-401e-8d9c-e25f9138ee14",
   "metadata": {},
   "outputs": [
    {
     "data": {
      "text/plain": [
       "Text(0, 0.5, 'Percentage')"
      ]
     },
     "execution_count": 64,
     "metadata": {},
     "output_type": "execute_result"
    },
    {
     "data": {
      "image/png": "[encoded data removed]",
      "text/plain": [
       "<Figure size 432x288 with 1 Axes>"
      ]
     },
     "metadata": {
      "needs_background": "light"
     },
     "output_type": "display_data"
    }
   ],
   "source": [
    "train['Total_Income']=train['ApplicantIncome']+train['CoapplicantIncome']\n",
    "\n",
    "bins=[0,2500,4000,6000,81000]\n",
    "groups=['Low','Average','High','Very high']\n",
    "\n",
    "train['Total_Income_bin'] = pd.cut(train['Total_Income'],bins,labels=groups)\n",
    "\n",
    "Total_Income_bin = pd.crosstab(train['Total_Income_bin'],train['Loan_Status'])\n",
    "\n",
    "Total_Income_bin.div(Total_Income_bin.sum(1).astype(float),axis =0).plot(kind=\"bar\",stacked=True)\n",
    "plt.xlabel(\"TotalIncome\")\n",
    "plt.ylabel(\"Percentage\")"
   ]
  },
  {
   "cell_type": "code",
   "execution_count": 66,
   "id": "6e9da102-a358-40cb-9ca5-c801c043813d",
   "metadata": {},
   "outputs": [],
   "source": [
    "#The proportion of loans getting approved for applicants having low total income is very less compared to that of applicants with average,high and very high income "
   ]
  },
  {
   "cell_type": "code",
   "execution_count": 67,
   "id": "46ff77ab-5380-4582-9c5b-61748e5837b2",
   "metadata": {},
   "outputs": [
    {
     "data": {
      "text/plain": [
       "Text(0, 0.5, 'Percentage')"
      ]
     },
     "execution_count": 67,
     "metadata": {},
     "output_type": "execute_result"
    },
    {
     "data": {
      "image/png": "[encoded data removed]",
      "text/plain": [
       "<Figure size 432x288 with 1 Axes>"
      ]
     },
     "metadata": {
      "needs_background": "light"
     },
     "output_type": "display_data"
    }
   ],
   "source": [
    "bins = [0,100,200,700]\n",
    "groups = ['Low','Average','High']\n",
    "\n",
    "train[\"LoanAmount_bin\"] = pd.cut(train['LoanAmount'],bins,labels=groups)\n",
    "\n",
    "LoanAmount_bin = pd.crosstab(train['LoanAmount_bin'],train['Loan_Status'])\n",
    "\n",
    "LoanAmount_bin.div(LoanAmount_bin.sum(1).astype(float),axis =0).plot(kind = \"bar\",stacked=True,)\n",
    "plt.xlabel(\"LoanAmount Category\")\n",
    "plt.ylabel(\"Percentage\")"
   ]
  },
  {
   "cell_type": "code",
   "execution_count": 69,
   "id": "473ccbad-e716-4baf-97f1-d8bf69b65bd3",
   "metadata": {},
   "outputs": [],
   "source": [
    "#Now we will drop the bins that we have created \n",
    "\n",
    "train = train.drop(['Income_bin','Coapplicant_Income_bin','LoanAmount_bin','Total_Income','Total_Income_bin'],axis = 1)"
   ]
  },
  {
   "cell_type": "code",
   "execution_count": 76,
   "id": "f91babbd-42b7-48db-88d6-99c9d5bbe6d1",
   "metadata": {},
   "outputs": [],
   "source": [
    "#Changing the datatype and variables as per the requirements\n",
    "\n",
    "train['Dependents'].replace('3+',3,inplace = True)\n",
    "test['Dependents'].replace('3+',3,inplace=True)\n",
    "\n",
    "train['Loan_Status'].replace('N',0,inplace=True)\n",
    "train['Loan_Status'].replace('Y',1,inplace=True)"
   ]
  },
  {
   "cell_type": "code",
   "execution_count": 78,
   "id": "9c11cd43-a7e4-4f30-828e-3f9007242e5a",
   "metadata": {},
   "outputs": [
    {
     "data": {
      "text/plain": [
       "<AxesSubplot:>"
      ]
     },
     "execution_count": 78,
     "metadata": {},
     "output_type": "execute_result"
    },
    {
     "data": {
      "image/png": "[encoded data removed]",
      "text/plain": [
       "<Figure size 648x432 with 2 Axes>"
      ]
     },
     "metadata": {
      "needs_background": "light"
     },
     "output_type": "display_data"
    }
   ],
   "source": [
    "#Now to look at the correlation between all the variables.We will use the heat map to visualize the correlation.\"HEATMAPS\" visualize data through variations in coloring.The darker the color the more the correlation \n",
    "\n",
    "matrix = train.corr() \n",
    "f, ax = plt.subplots(figsize=(9,6))\n",
    "sns.heatmap(matrix,vmax =.8,square = True,cmap=\"BuPu\")"
   ]
  },
  {
   "cell_type": "code",
   "execution_count": 81,
   "id": "de5902f0-f7b8-4aed-a138-100ec2aba32c",
   "metadata": {},
   "outputs": [],
   "source": [
    "#Missing value and Outlier Treatment\n",
    "\n",
    "#After exploring all the variables in our data, we can now impute the missing values and treat the outlier because missing data and outlier can have adverse effect on the model performance."
   ]
  },
  {
   "cell_type": "code",
   "execution_count": 82,
   "id": "b7d7ab71-3bfb-465b-a739-40c8247b0909",
   "metadata": {},
   "outputs": [
    {
     "data": {
      "text/plain": [
       "Loan_ID               0\n",
       "Gender               13\n",
       "Married               3\n",
       "Dependents           15\n",
       "Education             0\n",
       "Self_Employed        32\n",
       "ApplicantIncome       0\n",
       "CoapplicantIncome     0\n",
       "LoanAmount           22\n",
       "Loan_Amount_Term     14\n",
       "Credit_History       50\n",
       "Property_Area         0\n",
       "Loan_Status           0\n",
       "dtype: int64"
      ]
     },
     "execution_count": 82,
     "metadata": {},
     "output_type": "execute_result"
    }
   ],
   "source": [
    "#Listing all the number of missing values in different attributes\n",
    "\n",
    "train.isnull().sum()"
   ]
  },
  {
   "cell_type": "code",
   "execution_count": 83,
   "id": "602b32f5-6b5a-4d0d-8bda-99815dfee611",
   "metadata": {},
   "outputs": [],
   "source": [
    "# As we can see there are lots of missing values in the Gender,Married,Dependent,Self_Employed,LoanAmount,LoanAmountTerm,CreditHisotry\n"
   ]
  },
  {
   "cell_type": "code",
   "execution_count": 84,
   "id": "4499de9f-94b9-4142-87bf-59a12a000110",
   "metadata": {},
   "outputs": [],
   "source": [
    "#For numerical variable : - Mean or median imputation\n",
    "#For categorical Variable: - imputation using mode"
   ]
  },
  {
   "cell_type": "code",
   "execution_count": 86,
   "id": "6c6fe987-5a43-4050-9cda-51e43d2f68cd",
   "metadata": {},
   "outputs": [],
   "source": [
    "train['Gender'].fillna(train['Gender'].mode()[0],inplace = True)\n",
    "train['Married'].fillna(train['Married'].mode()[0],inplace=True)\n",
    "train['Dependents'].fillna(train['Dependents'].mode()[0],inplace=True)\n",
    "train['Self_Employed'].fillna(train['Self_Employed'].mode()[0],inplace=True)\n",
    "train['Credit_History'].fillna(train['Credit_History'].mode()[0],inplace = True)"
   ]
  },
  {
   "cell_type": "code",
   "execution_count": 87,
   "id": "e54888ba-0bea-4724-951c-770d39104faf",
   "metadata": {},
   "outputs": [
    {
     "data": {
      "text/plain": [
       "Loan_ID               0\n",
       "Gender                0\n",
       "Married               0\n",
       "Dependents            0\n",
       "Education             0\n",
       "Self_Employed         0\n",
       "ApplicantIncome       0\n",
       "CoapplicantIncome     0\n",
       "LoanAmount           22\n",
       "Loan_Amount_Term     14\n",
       "Credit_History        0\n",
       "Property_Area         0\n",
       "Loan_Status           0\n",
       "dtype: int64"
      ]
     },
     "execution_count": 87,
     "metadata": {},
     "output_type": "execute_result"
    }
   ],
   "source": [
    "train.isnull().sum()"
   ]
  },
  {
   "cell_type": "code",
   "execution_count": 89,
   "id": "276a8e65-a585-40db-bcf9-d46e4e45410e",
   "metadata": {},
   "outputs": [
    {
     "data": {
      "text/plain": [
       "360.0    512\n",
       "180.0     44\n",
       "480.0     15\n",
       "300.0     13\n",
       "240.0      4\n",
       "84.0       4\n",
       "120.0      3\n",
       "60.0       2\n",
       "36.0       2\n",
       "12.0       1\n",
       "Name: Loan_Amount_Term, dtype: int64"
      ]
     },
     "execution_count": 89,
     "metadata": {},
     "output_type": "execute_result"
    }
   ],
   "source": [
    "#Filling the missing value in the loan Amount Term\n",
    "\n",
    "train['Loan_Amount_Term'].value_counts()"
   ]
  },
  {
   "cell_type": "code",
   "execution_count": 91,
   "id": "4b286004-4d8c-457c-b091-db587c10326f",
   "metadata": {},
   "outputs": [],
   "source": [
    "train['Loan_Amount_Term'].fillna(train['Loan_Amount_Term'].mode()[0],inplace = True)\n",
    "\n",
    "train['LoanAmount'].fillna(train['LoanAmount'].median(),inplace= True)"
   ]
  },
  {
   "cell_type": "code",
   "execution_count": 92,
   "id": "ba531c5d-3bb4-4075-b58b-868c0771f02c",
   "metadata": {},
   "outputs": [
    {
     "data": {
      "text/plain": [
       "Loan_ID              0\n",
       "Gender               0\n",
       "Married              0\n",
       "Dependents           0\n",
       "Education            0\n",
       "Self_Employed        0\n",
       "ApplicantIncome      0\n",
       "CoapplicantIncome    0\n",
       "LoanAmount           0\n",
       "Loan_Amount_Term     0\n",
       "Credit_History       0\n",
       "Property_Area        0\n",
       "Loan_Status          0\n",
       "dtype: int64"
      ]
     },
     "execution_count": 92,
     "metadata": {},
     "output_type": "execute_result"
    }
   ],
   "source": [
    "train.isnull().sum()"
   ]
  },
  {
   "cell_type": "code",
   "execution_count": 93,
   "id": "e24653e3-4d8e-4805-bd82-a9d78f7ebc9d",
   "metadata": {},
   "outputs": [],
   "source": [
    "test['Gender'].fillna(test['Gender'].mode()[0],inplace = True)\n",
    "test['Married'].fillna(test['Married'].mode()[0],inplace=True)\n",
    "test['Dependents'].fillna(test['Dependents'].mode()[0],inplace=True)\n",
    "test['Self_Employed'].fillna(test['Self_Employed'].mode()[0],inplace=True)\n",
    "test['Credit_History'].fillna(test['Credit_History'].mode()[0],inplace = True)\n",
    "test['Loan_Amount_Term'].fillna(test['Loan_Amount_Term'].mode()[0],inplace = True)\n",
    "\n",
    "test['LoanAmount'].fillna(test['LoanAmount'].median(),inplace= True)"
   ]
  },
  {
   "cell_type": "code",
   "execution_count": 94,
   "id": "87298d3f-7e3b-4eb7-b73c-fe056e52d4af",
   "metadata": {},
   "outputs": [
    {
     "data": {
      "text/plain": [
       "Loan_ID              0\n",
       "Gender               0\n",
       "Married              0\n",
       "Dependents           0\n",
       "Education            0\n",
       "Self_Employed        0\n",
       "ApplicantIncome      0\n",
       "CoapplicantIncome    0\n",
       "LoanAmount           0\n",
       "Loan_Amount_Term     0\n",
       "Credit_History       0\n",
       "Property_Area        0\n",
       "dtype: int64"
      ]
     },
     "execution_count": 94,
     "metadata": {},
     "output_type": "execute_result"
    }
   ],
   "source": [
    "test.isnull().sum()"
   ]
  },
  {
   "cell_type": "code",
   "execution_count": 5,
   "id": "371e628b-6c4f-47ba-8ddf-a3aa8c8e35ca",
   "metadata": {},
   "outputs": [
    {
     "data": {
      "image/png": "[encoded data removed]",
      "text/plain": [
       "<Figure size 432x288 with 1 Axes>"
      ]
     },
     "metadata": {
      "needs_background": "light"
     },
     "output_type": "display_data"
    }
   ],
   "source": [
    "#As we saw in the univariate Analysis LoanAmount contains outliers so we have to treat them as the presence of outliers affects the distribution of the data.\n",
    "\n",
    "#Due to outliers bulk of the data in the loan amount is at the left and the right tail is longe.This is called right skewness.One way to remove the skewness is by doing the log transformation.As we take the log transformation, it does not affect the smaller values much, but reduces the larger values.So, we get the disrtibution similar to the test file.\n",
    "\n",
    "train['LoanAmount_log'] = np.log(train['LoanAmount'])\n",
    "train['LoanAmount_log'].hist(bins=20)\n",
    "test['LoanAmount_log'] = np.log(train['LoanAmount'])"
   ]
  },
  {
   "cell_type": "code",
   "execution_count": 6,
   "id": "6fad4a6f-af6b-47f1-9fbd-e7071b1c043a",
   "metadata": {},
   "outputs": [],
   "source": [
    "#Model Building (Logistic Regression)\n",
    "#We are dropping the loan id has it has no effect on the Loan Status \n",
    "\n",
    "train = train.drop('Loan_ID',axis=1)\n",
    "test=test.drop('Loan_ID',axis=1)"
   ]
  },
  {
   "cell_type": "code",
   "execution_count": 10,
   "id": "893bc439-695f-4c72-aac3-e440895e487f",
   "metadata": {},
   "outputs": [],
   "source": [
    "#Now we will create the dummy variable for the categoricla variables.Dummy variable turn the categorical variables into a series of 0 and 1.Consider the \"GENDER\" variable.It has two classes Male and Female\n",
    "#As logistic regression takes only the numerical value.Once we apply the dummies to this variable.It will convert the gender variable into two variables\n",
    "\n",
    "\n",
    "X = pd.get_dummies(x)\n",
    "train = pd.get_dummies(train)\n",
    "test = pd.get_dummies(test)"
   ]
  },
  {
   "cell_type": "code",
   "execution_count": 11,
   "id": "10c7c60a-c61a-446f-8369-a739147620cb",
   "metadata": {},
   "outputs": [],
   "source": [
    "#Now we will train the model on training dataset and make predictions for the test dataset.We can train the model on this train part and using that make predictions for the validation part\n",
    "\n",
    "\n"
   ]
  },
  {
   "cell_type": "code",
   "execution_count": 26,
   "id": "7555451c-b55c-4b04-b427-4498ab5c03da",
   "metadata": {},
   "outputs": [
    {
     "data": {
      "text/plain": [
       "(529, 23)"
      ]
     },
     "execution_count": 26,
     "metadata": {},
     "output_type": "execute_result"
    }
   ],
   "source": [
    "x_train.shape"
   ]
  },
  {
   "cell_type": "code",
   "execution_count": 27,
   "id": "2a45e02d-c4ca-474a-8785-4de7944fb2a4",
   "metadata": {},
   "outputs": [
    {
     "data": {
      "text/plain": [
       "(12167,)"
      ]
     },
     "execution_count": 27,
     "metadata": {},
     "output_type": "execute_result"
    }
   ],
   "source": [
    "y_train.shape"
   ]
  },
  {
   "cell_type": "code",
   "execution_count": 29,
   "id": "8556b858-3561-4d56-938a-b9fb5030f8c5",
   "metadata": {},
   "outputs": [],
   "source": [
    "y_train_reshaped = y_train.reshape(-1, 1)\n"
   ]
  },
  {
   "cell_type": "code",
   "execution_count": 30,
   "id": "c854fa58-a665-4815-8b86-a8e152920c1b",
   "metadata": {},
   "outputs": [
    {
     "data": {
      "text/plain": [
       "(12167, 1)"
      ]
     },
     "execution_count": 30,
     "metadata": {},
     "output_type": "execute_result"
    }
   ],
   "source": [
    "y_train_reshaped.shape"
   ]
  },
  {
   "cell_type": "code",
   "execution_count": 31,
   "id": "b28bf95c-ffca-44c0-b10b-2ebf9312fab1",
   "metadata": {},
   "outputs": [],
   "source": [
    "y_train = y_train_reshaped\n"
   ]
  },
  {
   "cell_type": "code",
   "execution_count": 32,
   "id": "f3375b37-71c8-494f-9d9e-b432d9256d56",
   "metadata": {},
   "outputs": [
    {
     "data": {
      "text/plain": [
       "(12167, 1)"
      ]
     },
     "execution_count": 32,
     "metadata": {},
     "output_type": "execute_result"
    }
   ],
   "source": [
    "y_train.shape"
   ]
  },
  {
   "cell_type": "code",
   "execution_count": 51,
   "id": "9290c3c9-cce4-4a89-b0ed-48e15fff4359",
   "metadata": {},
   "outputs": [],
   "source": [
    "from sklearn.model_selection import train_test_split\n",
    "x_train,x_cv,y_train,y_cv = train_test_split(X,y,test_size = 0.3)\n",
    "\n",
    "y_train_reshaped = np.array(y_train).reshape(-1, 1)\n",
    "y_train = y_train_reshaped\n",
    "\n",
    "\n",
    "x_train['Credit_History'].fillna(x_train['Credit_History'].mode()[0],inplace = True)\n",
    "x_train['Loan_Amount_Term'].fillna(x_train['Loan_Amount_Term'].mode()[0],inplace = True)\n",
    "x_train['LoanAmount'].fillna(x_train['LoanAmount'].median(),inplace= True)\n",
    "\n",
    "\n"
   ]
  },
  {
   "cell_type": "code",
   "execution_count": 56,
   "id": "4e59bfd2-b349-4c51-a01d-f6b63cd762ff",
   "metadata": {},
   "outputs": [
    {
     "data": {
      "text/plain": [
       "ApplicantIncome             0\n",
       "CoapplicantIncome           0\n",
       "LoanAmount                  0\n",
       "Loan_Amount_Term            0\n",
       "Credit_History              0\n",
       "LoanAmount_log             15\n",
       "Gender_Female               0\n",
       "Gender_Male                 0\n",
       "Married_No                  0\n",
       "Married_Yes                 0\n",
       "Dependents_0                0\n",
       "Dependents_1                0\n",
       "Dependents_2                0\n",
       "Dependents_3+               0\n",
       "Education_Graduate          0\n",
       "Education_Not Graduate      0\n",
       "Self_Employed_No            0\n",
       "Self_Employed_Yes           0\n",
       "Property_Area_Rural         0\n",
       "Property_Area_Semiurban     0\n",
       "Property_Area_Urban         0\n",
       "dtype: int64"
      ]
     },
     "execution_count": 56,
     "metadata": {},
     "output_type": "execute_result"
    }
   ],
   "source": [
    "x_train.isnull().sum()"
   ]
  },
  {
   "cell_type": "code",
   "execution_count": 58,
   "id": "2cf708c8-88d5-4688-b93d-996ff6ea9457",
   "metadata": {},
   "outputs": [],
   "source": [
    "x_train.drop('LoanAmount_log',1,inplace=True)"
   ]
  },
  {
   "cell_type": "code",
   "execution_count": 59,
   "id": "f2de4629-813a-4fcb-983f-bea71539b708",
   "metadata": {},
   "outputs": [
    {
     "data": {
      "text/plain": [
       "ApplicantIncome            0\n",
       "CoapplicantIncome          0\n",
       "LoanAmount                 0\n",
       "Loan_Amount_Term           0\n",
       "Credit_History             0\n",
       "Gender_Female              0\n",
       "Gender_Male                0\n",
       "Married_No                 0\n",
       "Married_Yes                0\n",
       "Dependents_0               0\n",
       "Dependents_1               0\n",
       "Dependents_2               0\n",
       "Dependents_3+              0\n",
       "Education_Graduate         0\n",
       "Education_Not Graduate     0\n",
       "Self_Employed_No           0\n",
       "Self_Employed_Yes          0\n",
       "Property_Area_Rural        0\n",
       "Property_Area_Semiurban    0\n",
       "Property_Area_Urban        0\n",
       "dtype: int64"
      ]
     },
     "execution_count": 59,
     "metadata": {},
     "output_type": "execute_result"
    }
   ],
   "source": [
    "x_train.isnull().sum()"
   ]
  },
  {
   "cell_type": "code",
   "execution_count": 67,
   "id": "5bd16c6c-d6d6-4ea4-a472-c3c409988770",
   "metadata": {},
   "outputs": [
    {
     "data": {
      "text/plain": [
       "LogisticRegression(multi_class='ovr', n_jobs=1, random_state=1,\n",
       "                   solver='liblinear')"
      ]
     },
     "execution_count": 67,
     "metadata": {},
     "output_type": "execute_result"
    }
   ],
   "source": [
    "from sklearn.linear_model import LogisticRegression\n",
    "from sklearn.metrics import accuracy_score\n",
    "\n",
    "model = LogisticRegression()\n",
    "model.fit(x_train,y_train)\n",
    "\n",
    "LogisticRegression(C=1.0, class_weight=None, dual=False, fit_intercept=True,\n",
    "                           intercept_scaling=1, max_iter=100, multi_class='ovr', n_jobs=1,\n",
    "                           penalty='l2', random_state=1, solver='liblinear', tol=0.0001,\n",
    "                           verbose=0, warm_start=False)"
   ]
  },
  {
   "cell_type": "code",
   "execution_count": 77,
   "id": "52b2ef33-dfc1-4045-9968-390a0bcffc40",
   "metadata": {},
   "outputs": [],
   "source": [
    "#lets predict the loan_status for the validation set and calculate te accuracy\n",
    "\n",
    "x_cv['Credit_History'].fillna(x_cv['Credit_History'].mode()[0],inplace = True)\n",
    "x_cv['Loan_Amount_Term'].fillna(x_cv['Loan_Amount_Term'].mode()[0],inplace = True)\n",
    "x_cv['LoanAmount'].fillna(x_cv['LoanAmount'].median(),inplace= True)\n",
    "\n",
    "\n",
    "pred_cv = model.predict(x_cv)\n"
   ]
  },
  {
   "cell_type": "code",
   "execution_count": 78,
   "id": "7616c34a-1c3c-4264-a075-f33ae1d2aca2",
   "metadata": {},
   "outputs": [
    {
     "data": {
      "text/plain": [
       "0.7945945945945946"
      ]
     },
     "execution_count": 78,
     "metadata": {},
     "output_type": "execute_result"
    }
   ],
   "source": [
    "accuracy_score(y_cv,pred_cv)"
   ]
  },
  {
   "cell_type": "code",
   "execution_count": 79,
   "id": "64d6d352-9116-4a59-8526-c4e58288ab37",
   "metadata": {},
   "outputs": [],
   "source": [
    "#From the above accuracy , our prediciton is 80% accurate, we have identified 80% of the loan Status correctly"
   ]
  },
  {
   "cell_type": "code",
   "execution_count": 83,
   "id": "d8ec93cf-210b-4648-a444-af3593d350ab",
   "metadata": {},
   "outputs": [],
   "source": [
    "#lets make the prediction for the test dataset\n",
    "test['Credit_History'].fillna(test['Credit_History'].mode()[0],inplace = True)\n",
    "test['Loan_Amount_Term'].fillna(test['Loan_Amount_Term'].mode()[0],inplace = True)\n",
    "test['LoanAmount'].fillna(test['LoanAmount'].median(),inplace= True)\n",
    "test.drop('LoanAmount_log',axis=1,inplace=True)\n",
    "pred_test = model.predict(test)"
   ]
  },
  {
   "cell_type": "code",
   "execution_count": 84,
   "id": "bdc5cf87-e2a4-4c85-bbc9-e8f75293a60c",
   "metadata": {},
   "outputs": [],
   "source": [
    "submission = pd.read_csv(\"sample_submission.csv\")"
   ]
  },
  {
   "cell_type": "code",
   "execution_count": 92,
   "id": "3efc197c-cee0-4073-b763-7e5503a29297",
   "metadata": {},
   "outputs": [],
   "source": [
    "submission['Loan_Status'] = pred_test\n",
    "submission['Loan_ID']=test_original['Loan_ID']"
   ]
  },
  {
   "cell_type": "code",
   "execution_count": 94,
   "id": "44b07dee-a6d7-4afd-8b90-b9d35689d922",
   "metadata": {},
   "outputs": [],
   "source": [
    "submission['Loan_Status'].replace(0,'N',inplace=True)\n",
    "submission['Loan_Status'].replace(1,'Y',inplace=True)"
   ]
  },
  {
   "cell_type": "code",
   "execution_count": 96,
   "id": "5092490e-3ec8-4b5a-a756-4d2f5b50a789",
   "metadata": {},
   "outputs": [],
   "source": [
    "pd.DataFrame(submission,columns=['Loan_ID','Loan_Status']).to_csv('logistic.csv')"
   ]
  },
  {
   "cell_type": "code",
   "execution_count": 97,
   "id": "78d6d141-9113-4abf-aa95-69a6f983a705",
   "metadata": {},
   "outputs": [],
   "source": [
    "testdf = pd.read_csv(\"logistic.csv\")"
   ]
  },
  {
   "cell_type": "code",
   "execution_count": 98,
   "id": "c8f22651-7aea-41d2-92cd-a1102d43e473",
   "metadata": {},
   "outputs": [
    {
     "data": {
      "text/plain": [
       "Index(['Unnamed: 0', 'Loan_ID', 'Loan_Status'], dtype='object')"
      ]
     },
     "execution_count": 98,
     "metadata": {},
     "output_type": "execute_result"
    }
   ],
   "source": [
    "testdf.columns\n"
   ]
  },
  {
   "cell_type": "code",
   "execution_count": null,
   "id": "112ab8e2-4588-49b2-868a-833b71d68d7a",
   "metadata": {},
   "outputs": [],
   "source": []
  }
 ],
 "metadata": {
  "kernelspec": {
   "display_name": "anaconda-2022.05-py39",
   "language": "python",
   "name": "conda-env-anaconda-2022.05-py39-py"
  },
  "language_info": {
   "codemirror_mode": {
    "name": "ipython",
    "version": 3
   },
   "file_extension": ".py",
   "mimetype": "text/x-python",
   "name": "python",
   "nbconvert_exporter": "python",
   "pygments_lexer": "ipython3",
   "version": "3.9.12"
  }
 },
 "nbformat": 4,
 "nbformat_minor": 5
}
